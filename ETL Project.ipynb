{
 "cells": [
  {
   "cell_type": "markdown",
   "metadata": {},
   "source": [
    "# Import software libraries"
   ]
  },
  {
   "cell_type": "code",
   "execution_count": 35,
   "metadata": {},
   "outputs": [
    {
     "name": "stdout",
     "output_type": "stream",
     "text": [
      "Libraries used in this project:\n",
      "- Python 3.9.12 (main, Apr  4 2022, 05:22:27) [MSC v.1916 64 bit (AMD64)]\n",
      "- pandas 1.4.2\n",
      "- sqlite3 3.38.2\n"
     ]
    }
   ],
   "source": [
    "# Import required libraries.\n",
    "import sys           # Read system parameters.\n",
    "import pandas as pd  # Manipulate and analyze data.\n",
    "import sqlite3       # Manage SQL databases.\n",
    "\n",
    "# Summarize software libraries used.\n",
    "print('Libraries used in this project:')\n",
    "print('- Python {}'.format(sys.version))\n",
    "print('- pandas {}'.format(pd.__version__))\n",
    "print('- sqlite3 {}'.format(sqlite3.sqlite_version))"
   ]
  },
  {
   "cell_type": "markdown",
   "metadata": {},
   "source": [
    "# Examine the database"
   ]
  },
  {
   "cell_type": "code",
   "execution_count": 36,
   "metadata": {},
   "outputs": [],
   "source": [
    "# Connect to SQLite database.\n",
    "\n",
    "conn = sqlite3.connect('data/prod_sample.db')"
   ]
  },
  {
   "cell_type": "code",
   "execution_count": 37,
   "metadata": {
    "scrolled": false
   },
   "outputs": [
    {
     "data": {
      "text/html": [
       "<div>\n",
       "<style scoped>\n",
       "    .dataframe tbody tr th:only-of-type {\n",
       "        vertical-align: middle;\n",
       "    }\n",
       "\n",
       "    .dataframe tbody tr th {\n",
       "        vertical-align: top;\n",
       "    }\n",
       "\n",
       "    .dataframe thead th {\n",
       "        text-align: right;\n",
       "    }\n",
       "</style>\n",
       "<table border=\"1\" class=\"dataframe\">\n",
       "  <thead>\n",
       "    <tr style=\"text-align: right;\">\n",
       "      <th></th>\n",
       "      <th>name</th>\n",
       "    </tr>\n",
       "  </thead>\n",
       "  <tbody>\n",
       "    <tr>\n",
       "      <th>0</th>\n",
       "      <td>stock_description</td>\n",
       "    </tr>\n",
       "    <tr>\n",
       "      <th>1</th>\n",
       "      <td>online_retail_history</td>\n",
       "    </tr>\n",
       "  </tbody>\n",
       "</table>\n",
       "</div>"
      ],
      "text/plain": [
       "                    name\n",
       "0      stock_description\n",
       "1  online_retail_history"
      ]
     },
     "execution_count": 37,
     "metadata": {},
     "output_type": "execute_result"
    }
   ],
   "source": [
    "# List all the tables in the database.\n",
    "query = \"\"\"SELECT name FROM sqlite_master WHERE type='table';\"\"\"\n",
    "pd.read_sql(query, conn)"
   ]
  },
  {
   "cell_type": "markdown",
   "metadata": {},
   "source": [
    "# Read data from the `online_retail_history` table"
   ]
  },
  {
   "cell_type": "code",
   "execution_count": 33,
   "metadata": {},
   "outputs": [
    {
     "ename": "ProgrammingError",
     "evalue": "Cannot operate on a closed database.",
     "output_type": "error",
     "traceback": [
      "\u001b[1;31m---------------------------------------------------------------------------\u001b[0m",
      "\u001b[1;31mProgrammingError\u001b[0m                          Traceback (most recent call last)",
      "\u001b[1;32md:\\Проекты\\красота\\coursera\\ETL\\Project\\ETL Project.ipynb Cell 7\u001b[0m in \u001b[0;36m<cell line: 8>\u001b[1;34m()\u001b[0m\n\u001b[0;32m      <a href='vscode-notebook-cell:/d%3A/%D0%9F%D1%80%D0%BE%D0%B5%D0%BA%D1%82%D1%8B/%D0%BA%D1%80%D0%B0%D1%81%D0%BE%D1%82%D0%B0/coursera/ETL/Project/ETL%20Project.ipynb#W6sZmlsZQ%3D%3D?line=2'>3</a>\u001b[0m query \u001b[39m=\u001b[39m \u001b[39m'\u001b[39m\u001b[39mSELECT * FROM online_retail_history\u001b[39m\u001b[39m'\u001b[39m\n\u001b[0;32m      <a href='vscode-notebook-cell:/d%3A/%D0%9F%D1%80%D0%BE%D0%B5%D0%BA%D1%82%D1%8B/%D0%BA%D1%80%D0%B0%D1%81%D0%BE%D1%82%D0%B0/coursera/ETL/Project/ETL%20Project.ipynb#W6sZmlsZQ%3D%3D?line=5'>6</a>\u001b[0m \u001b[39m# Use the read_sql function in pandas to read a query into a DataFrame.\u001b[39;00m\n\u001b[1;32m----> <a href='vscode-notebook-cell:/d%3A/%D0%9F%D1%80%D0%BE%D0%B5%D0%BA%D1%82%D1%8B/%D0%BA%D1%80%D0%B0%D1%81%D0%BE%D1%82%D0%B0/coursera/ETL/Project/ETL%20Project.ipynb#W6sZmlsZQ%3D%3D?line=7'>8</a>\u001b[0m retail_history \u001b[39m=\u001b[39m pd\u001b[39m.\u001b[39;49mread_sql(query, conn)\n\u001b[0;32m     <a href='vscode-notebook-cell:/d%3A/%D0%9F%D1%80%D0%BE%D0%B5%D0%BA%D1%82%D1%8B/%D0%BA%D1%80%D0%B0%D1%81%D0%BE%D1%82%D0%B0/coursera/ETL/Project/ETL%20Project.ipynb#W6sZmlsZQ%3D%3D?line=9'>10</a>\u001b[0m \u001b[39m# Preview the first five rows of the data.\u001b[39;00m\n\u001b[0;32m     <a href='vscode-notebook-cell:/d%3A/%D0%9F%D1%80%D0%BE%D0%B5%D0%BA%D1%82%D1%8B/%D0%BA%D1%80%D0%B0%D1%81%D0%BE%D1%82%D0%B0/coursera/ETL/Project/ETL%20Project.ipynb#W6sZmlsZQ%3D%3D?line=11'>12</a>\u001b[0m retail_history\u001b[39m.\u001b[39mhead(n \u001b[39m=\u001b[39m \u001b[39m5\u001b[39m)\n",
      "File \u001b[1;32mc:\\Users\\MSI\\anaconda3\\lib\\site-packages\\pandas\\io\\sql.py:566\u001b[0m, in \u001b[0;36mread_sql\u001b[1;34m(sql, con, index_col, coerce_float, params, parse_dates, columns, chunksize)\u001b[0m\n\u001b[0;32m    563\u001b[0m pandas_sql \u001b[39m=\u001b[39m pandasSQL_builder(con)\n\u001b[0;32m    565\u001b[0m \u001b[39mif\u001b[39;00m \u001b[39misinstance\u001b[39m(pandas_sql, SQLiteDatabase):\n\u001b[1;32m--> 566\u001b[0m     \u001b[39mreturn\u001b[39;00m pandas_sql\u001b[39m.\u001b[39;49mread_query(\n\u001b[0;32m    567\u001b[0m         sql,\n\u001b[0;32m    568\u001b[0m         index_col\u001b[39m=\u001b[39;49mindex_col,\n\u001b[0;32m    569\u001b[0m         params\u001b[39m=\u001b[39;49mparams,\n\u001b[0;32m    570\u001b[0m         coerce_float\u001b[39m=\u001b[39;49mcoerce_float,\n\u001b[0;32m    571\u001b[0m         parse_dates\u001b[39m=\u001b[39;49mparse_dates,\n\u001b[0;32m    572\u001b[0m         chunksize\u001b[39m=\u001b[39;49mchunksize,\n\u001b[0;32m    573\u001b[0m     )\n\u001b[0;32m    575\u001b[0m \u001b[39mtry\u001b[39;00m:\n\u001b[0;32m    576\u001b[0m     _is_table_name \u001b[39m=\u001b[39m pandas_sql\u001b[39m.\u001b[39mhas_table(sql)\n",
      "File \u001b[1;32mc:\\Users\\MSI\\anaconda3\\lib\\site-packages\\pandas\\io\\sql.py:2080\u001b[0m, in \u001b[0;36mSQLiteDatabase.read_query\u001b[1;34m(self, sql, index_col, coerce_float, params, parse_dates, chunksize, dtype)\u001b[0m\n\u001b[0;32m   2068\u001b[0m \u001b[39mdef\u001b[39;00m \u001b[39mread_query\u001b[39m(\n\u001b[0;32m   2069\u001b[0m     \u001b[39mself\u001b[39m,\n\u001b[0;32m   2070\u001b[0m     sql,\n\u001b[1;32m   (...)\u001b[0m\n\u001b[0;32m   2076\u001b[0m     dtype: DtypeArg \u001b[39m|\u001b[39m \u001b[39mNone\u001b[39;00m \u001b[39m=\u001b[39m \u001b[39mNone\u001b[39;00m,\n\u001b[0;32m   2077\u001b[0m ):\n\u001b[0;32m   2079\u001b[0m     args \u001b[39m=\u001b[39m _convert_params(sql, params)\n\u001b[1;32m-> 2080\u001b[0m     cursor \u001b[39m=\u001b[39m \u001b[39mself\u001b[39;49m\u001b[39m.\u001b[39;49mexecute(\u001b[39m*\u001b[39;49margs)\n\u001b[0;32m   2081\u001b[0m     columns \u001b[39m=\u001b[39m [col_desc[\u001b[39m0\u001b[39m] \u001b[39mfor\u001b[39;00m col_desc \u001b[39min\u001b[39;00m cursor\u001b[39m.\u001b[39mdescription]\n\u001b[0;32m   2083\u001b[0m     \u001b[39mif\u001b[39;00m chunksize \u001b[39mis\u001b[39;00m \u001b[39mnot\u001b[39;00m \u001b[39mNone\u001b[39;00m:\n",
      "File \u001b[1;32mc:\\Users\\MSI\\anaconda3\\lib\\site-packages\\pandas\\io\\sql.py:2018\u001b[0m, in \u001b[0;36mSQLiteDatabase.execute\u001b[1;34m(self, *args, **kwargs)\u001b[0m\n\u001b[0;32m   2017\u001b[0m \u001b[39mdef\u001b[39;00m \u001b[39mexecute\u001b[39m(\u001b[39mself\u001b[39m, \u001b[39m*\u001b[39margs, \u001b[39m*\u001b[39m\u001b[39m*\u001b[39mkwargs):\n\u001b[1;32m-> 2018\u001b[0m     cur \u001b[39m=\u001b[39m \u001b[39mself\u001b[39;49m\u001b[39m.\u001b[39;49mcon\u001b[39m.\u001b[39;49mcursor()\n\u001b[0;32m   2019\u001b[0m     \u001b[39mtry\u001b[39;00m:\n\u001b[0;32m   2020\u001b[0m         cur\u001b[39m.\u001b[39mexecute(\u001b[39m*\u001b[39margs, \u001b[39m*\u001b[39m\u001b[39m*\u001b[39mkwargs)\n",
      "\u001b[1;31mProgrammingError\u001b[0m: Cannot operate on a closed database."
     ]
    }
   ],
   "source": [
    "# Write the query to be executed that selects everything from the online_retail_history table.\n",
    "\n",
    "query = 'SELECT * FROM online_retail_history'\n",
    "\n",
    "\n",
    "# Use the read_sql function in pandas to read a query into a DataFrame.\n",
    "\n",
    "retail_history = pd.read_sql(query, conn)\n",
    "\n",
    "# Preview the first five rows of the data.\n",
    "\n",
    "retail_history.head(n = 5)"
   ]
  },
  {
   "cell_type": "code",
   "execution_count": 8,
   "metadata": {},
   "outputs": [
    {
     "data": {
      "text/plain": [
       "(15321, 8)"
      ]
     },
     "execution_count": 8,
     "metadata": {},
     "output_type": "execute_result"
    }
   ],
   "source": [
    "# Get the shape of the data.\n",
    "\n",
    "retail_history.shape"
   ]
  },
  {
   "cell_type": "markdown",
   "metadata": {},
   "source": [
    "# Read data from the `stock_description` table"
   ]
  },
  {
   "cell_type": "code",
   "execution_count": 9,
   "metadata": {},
   "outputs": [
    {
     "data": {
      "text/html": [
       "<div>\n",
       "<style scoped>\n",
       "    .dataframe tbody tr th:only-of-type {\n",
       "        vertical-align: middle;\n",
       "    }\n",
       "\n",
       "    .dataframe tbody tr th {\n",
       "        vertical-align: top;\n",
       "    }\n",
       "\n",
       "    .dataframe thead th {\n",
       "        text-align: right;\n",
       "    }\n",
       "</style>\n",
       "<table border=\"1\" class=\"dataframe\">\n",
       "  <thead>\n",
       "    <tr style=\"text-align: right;\">\n",
       "      <th></th>\n",
       "      <th>StockCode</th>\n",
       "      <th>Description</th>\n",
       "    </tr>\n",
       "  </thead>\n",
       "  <tbody>\n",
       "    <tr>\n",
       "      <th>0</th>\n",
       "      <td>10002</td>\n",
       "      <td>INFLATABLE POLITICAL GLOBE</td>\n",
       "    </tr>\n",
       "    <tr>\n",
       "      <th>1</th>\n",
       "      <td>10080</td>\n",
       "      <td>GROOVY CACTUS INFLATABLE</td>\n",
       "    </tr>\n",
       "    <tr>\n",
       "      <th>2</th>\n",
       "      <td>10120</td>\n",
       "      <td>DOGGY RUBBER</td>\n",
       "    </tr>\n",
       "    <tr>\n",
       "      <th>3</th>\n",
       "      <td>10123C</td>\n",
       "      <td>HEARTS WRAPPING TAPE</td>\n",
       "    </tr>\n",
       "    <tr>\n",
       "      <th>4</th>\n",
       "      <td>10124A</td>\n",
       "      <td>SPOTS ON RED BOOKCOVER TAPE</td>\n",
       "    </tr>\n",
       "  </tbody>\n",
       "</table>\n",
       "</div>"
      ],
      "text/plain": [
       "  StockCode                  Description\n",
       "0     10002  INFLATABLE POLITICAL GLOBE \n",
       "1     10080     GROOVY CACTUS INFLATABLE\n",
       "2     10120                 DOGGY RUBBER\n",
       "3    10123C        HEARTS WRAPPING TAPE \n",
       "4    10124A  SPOTS ON RED BOOKCOVER TAPE"
      ]
     },
     "execution_count": 9,
     "metadata": {},
     "output_type": "execute_result"
    }
   ],
   "source": [
    "# Write the query to be executed that selects everything from the online_retail_history table.\n",
    "\n",
    "query = 'SELECT * FROM stock_description'\n",
    "\n",
    "\n",
    "# Use the read_sql function in pandas to read a query into a DataFrame.\n",
    "\n",
    "stock_description = pd.read_sql(query, conn)\n",
    "\n",
    "# Preview the first five rows of the data.\n",
    "\n",
    "stock_description.head(n = 5)"
   ]
  },
  {
   "cell_type": "code",
   "execution_count": 10,
   "metadata": {},
   "outputs": [
    {
     "data": {
      "text/plain": [
       "(3952, 2)"
      ]
     },
     "execution_count": 10,
     "metadata": {},
     "output_type": "execute_result"
    }
   ],
   "source": [
    "# Get the shape of the data.\n",
    "\n",
    "stock_description.shape"
   ]
  },
  {
   "cell_type": "markdown",
   "metadata": {},
   "source": [
    "# Aggregate the `online_retail_history` and `stock_description` datasets"
   ]
  },
  {
   "cell_type": "code",
   "execution_count": 11,
   "metadata": {},
   "outputs": [
    {
     "data": {
      "text/html": [
       "<div>\n",
       "<style scoped>\n",
       "    .dataframe tbody tr th:only-of-type {\n",
       "        vertical-align: middle;\n",
       "    }\n",
       "\n",
       "    .dataframe tbody tr th {\n",
       "        vertical-align: top;\n",
       "    }\n",
       "\n",
       "    .dataframe thead th {\n",
       "        text-align: right;\n",
       "    }\n",
       "</style>\n",
       "<table border=\"1\" class=\"dataframe\">\n",
       "  <thead>\n",
       "    <tr style=\"text-align: right;\">\n",
       "      <th></th>\n",
       "      <th>Invoice</th>\n",
       "      <th>StockCode</th>\n",
       "      <th>Quantity</th>\n",
       "      <th>InvoiceDate</th>\n",
       "      <th>Price</th>\n",
       "      <th>CustomerID</th>\n",
       "      <th>Country</th>\n",
       "      <th>TotalAmount</th>\n",
       "      <th>Description</th>\n",
       "    </tr>\n",
       "  </thead>\n",
       "  <tbody>\n",
       "    <tr>\n",
       "      <th>0</th>\n",
       "      <td>536365</td>\n",
       "      <td>85123A</td>\n",
       "      <td>6</td>\n",
       "      <td>2010-12-01 08:26:00</td>\n",
       "      <td>2.55</td>\n",
       "      <td>u1785</td>\n",
       "      <td>United Kingdom</td>\n",
       "      <td>15.30</td>\n",
       "      <td>CREAM HANGING HEART T-LIGHT HOLDER</td>\n",
       "    </tr>\n",
       "    <tr>\n",
       "      <th>1</th>\n",
       "      <td>536367</td>\n",
       "      <td>84879</td>\n",
       "      <td>32</td>\n",
       "      <td>2010-12-01 08:34:00</td>\n",
       "      <td>1.69</td>\n",
       "      <td>u13047</td>\n",
       "      <td>United Kingdom</td>\n",
       "      <td>54.08</td>\n",
       "      <td>ASSORTED COLOUR BIRD ORNAMENT</td>\n",
       "    </tr>\n",
       "    <tr>\n",
       "      <th>2</th>\n",
       "      <td>536373</td>\n",
       "      <td>85123A</td>\n",
       "      <td>6</td>\n",
       "      <td>2010-12-01 09:02:00</td>\n",
       "      <td>2.55</td>\n",
       "      <td>u1785</td>\n",
       "      <td>United Kingdom</td>\n",
       "      <td>15.30</td>\n",
       "      <td>CREAM HANGING HEART T-LIGHT HOLDER</td>\n",
       "    </tr>\n",
       "    <tr>\n",
       "      <th>3</th>\n",
       "      <td>536375</td>\n",
       "      <td>85123A</td>\n",
       "      <td>6</td>\n",
       "      <td>2010-12-01 09:32:00</td>\n",
       "      <td>2.55</td>\n",
       "      <td>u1785</td>\n",
       "      <td>United Kingdom</td>\n",
       "      <td>15.30</td>\n",
       "      <td>CREAM HANGING HEART T-LIGHT HOLDER</td>\n",
       "    </tr>\n",
       "    <tr>\n",
       "      <th>4</th>\n",
       "      <td>536378</td>\n",
       "      <td>20725</td>\n",
       "      <td>10</td>\n",
       "      <td>2010-12-01 09:37:00</td>\n",
       "      <td>1.65</td>\n",
       "      <td>u14688</td>\n",
       "      <td>United Kingdom</td>\n",
       "      <td>16.50</td>\n",
       "      <td>LUNCH BAG RED RETROSPOT</td>\n",
       "    </tr>\n",
       "  </tbody>\n",
       "</table>\n",
       "</div>"
      ],
      "text/plain": [
       "  Invoice StockCode  Quantity          InvoiceDate  Price CustomerID  \\\n",
       "0  536365    85123A         6  2010-12-01 08:26:00   2.55      u1785   \n",
       "1  536367     84879        32  2010-12-01 08:34:00   1.69     u13047   \n",
       "2  536373    85123A         6  2010-12-01 09:02:00   2.55      u1785   \n",
       "3  536375    85123A         6  2010-12-01 09:32:00   2.55      u1785   \n",
       "4  536378     20725        10  2010-12-01 09:37:00   1.65     u14688   \n",
       "\n",
       "          Country  TotalAmount                         Description  \n",
       "0  United Kingdom        15.30  CREAM HANGING HEART T-LIGHT HOLDER  \n",
       "1  United Kingdom        54.08       ASSORTED COLOUR BIRD ORNAMENT  \n",
       "2  United Kingdom        15.30  CREAM HANGING HEART T-LIGHT HOLDER  \n",
       "3  United Kingdom        15.30  CREAM HANGING HEART T-LIGHT HOLDER  \n",
       "4  United Kingdom        16.50             LUNCH BAG RED RETROSPOT  "
      ]
     },
     "execution_count": 11,
     "metadata": {},
     "output_type": "execute_result"
    }
   ],
   "source": [
    "# Write a query to aggregate the two datasets so that you have the stock descriptions as well as the stock code.\n",
    "\n",
    "query = '''SELECT left_table.*,\n",
    "                right_table.Description\n",
    "            FROM online_retail_history AS left_table LEFT JOIN stock_description AS right_table\n",
    "            ON left_table.StockCode = right_table.StockCode'''\n",
    "\n",
    "# Use the read_sql function in pandas to read a query into a DataFrame.\n",
    "\n",
    "retail_history_w_description = pd.read_sql(query, conn)\n",
    "\n",
    "# Preview the first five rows of the data.\n",
    "\n",
    "retail_history_w_description.head(n = 5)"
   ]
  },
  {
   "cell_type": "code",
   "execution_count": 12,
   "metadata": {},
   "outputs": [
    {
     "data": {
      "text/plain": [
       "(17032, 9)"
      ]
     },
     "execution_count": 12,
     "metadata": {},
     "output_type": "execute_result"
    }
   ],
   "source": [
    "# Get the shape of the data.\n",
    "\n",
    "retail_history_w_description.shape"
   ]
  },
  {
   "cell_type": "markdown",
   "metadata": {},
   "source": [
    "# Identify and fix corrupt or unusable data"
   ]
  },
  {
   "cell_type": "code",
   "execution_count": 32,
   "metadata": {},
   "outputs": [
    {
     "data": {
      "text/plain": [
       "CREAM HANGING HEART T-LIGHT HOLDER    2174\n",
       "JUMBO BAG RED RETROSPOT               1960\n",
       "?                                     1711\n",
       "REGENCY CAKESTAND 3 TIER              1711\n",
       "PARTY BUNTING                         1615\n",
       "LUNCH BAG RED RETROSPOT               1421\n",
       "ASSORTED COLOUR BIRD ORNAMENT         1405\n",
       "POPCORN HOLDER                        1329\n",
       "LUNCH BAG  BLACK SKULL.               1271\n",
       "SET OF 3 CAKE TINS PANTRY DESIGN      1257\n",
       "PACK OF 72 RETROSPOT CAKE CASES       1178\n",
       "Name: Description, dtype: int64"
      ]
     },
     "execution_count": 32,
     "metadata": {},
     "output_type": "execute_result"
    }
   ],
   "source": [
    "# Check the value counts of the \"Description\" field.\n",
    "\n",
    "retail_history_w_description.Description.value_counts()"
   ]
  },
  {
   "cell_type": "code",
   "execution_count": 14,
   "metadata": {},
   "outputs": [
    {
     "data": {
      "text/html": [
       "<div>\n",
       "<style scoped>\n",
       "    .dataframe tbody tr th:only-of-type {\n",
       "        vertical-align: middle;\n",
       "    }\n",
       "\n",
       "    .dataframe tbody tr th {\n",
       "        vertical-align: top;\n",
       "    }\n",
       "\n",
       "    .dataframe thead th {\n",
       "        text-align: right;\n",
       "    }\n",
       "</style>\n",
       "<table border=\"1\" class=\"dataframe\">\n",
       "  <thead>\n",
       "    <tr style=\"text-align: right;\">\n",
       "      <th></th>\n",
       "      <th>Invoice</th>\n",
       "      <th>StockCode</th>\n",
       "      <th>Quantity</th>\n",
       "      <th>InvoiceDate</th>\n",
       "      <th>Price</th>\n",
       "      <th>CustomerID</th>\n",
       "      <th>Country</th>\n",
       "      <th>TotalAmount</th>\n",
       "      <th>Description</th>\n",
       "    </tr>\n",
       "  </thead>\n",
       "  <tbody>\n",
       "    <tr>\n",
       "      <th>0</th>\n",
       "      <td>536365</td>\n",
       "      <td>85123A</td>\n",
       "      <td>6</td>\n",
       "      <td>2010-12-01 08:26:00</td>\n",
       "      <td>2.55</td>\n",
       "      <td>u1785</td>\n",
       "      <td>United Kingdom</td>\n",
       "      <td>15.30</td>\n",
       "      <td>CREAM HANGING HEART T-LIGHT HOLDER</td>\n",
       "    </tr>\n",
       "    <tr>\n",
       "      <th>1</th>\n",
       "      <td>536367</td>\n",
       "      <td>84879</td>\n",
       "      <td>32</td>\n",
       "      <td>2010-12-01 08:34:00</td>\n",
       "      <td>1.69</td>\n",
       "      <td>u13047</td>\n",
       "      <td>United Kingdom</td>\n",
       "      <td>54.08</td>\n",
       "      <td>ASSORTED COLOUR BIRD ORNAMENT</td>\n",
       "    </tr>\n",
       "    <tr>\n",
       "      <th>2</th>\n",
       "      <td>536373</td>\n",
       "      <td>85123A</td>\n",
       "      <td>6</td>\n",
       "      <td>2010-12-01 09:02:00</td>\n",
       "      <td>2.55</td>\n",
       "      <td>u1785</td>\n",
       "      <td>United Kingdom</td>\n",
       "      <td>15.30</td>\n",
       "      <td>CREAM HANGING HEART T-LIGHT HOLDER</td>\n",
       "    </tr>\n",
       "    <tr>\n",
       "      <th>3</th>\n",
       "      <td>536375</td>\n",
       "      <td>85123A</td>\n",
       "      <td>6</td>\n",
       "      <td>2010-12-01 09:32:00</td>\n",
       "      <td>2.55</td>\n",
       "      <td>u1785</td>\n",
       "      <td>United Kingdom</td>\n",
       "      <td>15.30</td>\n",
       "      <td>CREAM HANGING HEART T-LIGHT HOLDER</td>\n",
       "    </tr>\n",
       "    <tr>\n",
       "      <th>4</th>\n",
       "      <td>536378</td>\n",
       "      <td>20725</td>\n",
       "      <td>10</td>\n",
       "      <td>2010-12-01 09:37:00</td>\n",
       "      <td>1.65</td>\n",
       "      <td>u14688</td>\n",
       "      <td>United Kingdom</td>\n",
       "      <td>16.50</td>\n",
       "      <td>LUNCH BAG RED RETROSPOT</td>\n",
       "    </tr>\n",
       "  </tbody>\n",
       "</table>\n",
       "</div>"
      ],
      "text/plain": [
       "  Invoice StockCode  Quantity          InvoiceDate  Price CustomerID  \\\n",
       "0  536365    85123A         6  2010-12-01 08:26:00   2.55      u1785   \n",
       "1  536367     84879        32  2010-12-01 08:34:00   1.69     u13047   \n",
       "2  536373    85123A         6  2010-12-01 09:02:00   2.55      u1785   \n",
       "3  536375    85123A         6  2010-12-01 09:32:00   2.55      u1785   \n",
       "4  536378     20725        10  2010-12-01 09:37:00   1.65     u14688   \n",
       "\n",
       "          Country  TotalAmount                         Description  \n",
       "0  United Kingdom        15.30  CREAM HANGING HEART T-LIGHT HOLDER  \n",
       "1  United Kingdom        54.08       ASSORTED COLOUR BIRD ORNAMENT  \n",
       "2  United Kingdom        15.30  CREAM HANGING HEART T-LIGHT HOLDER  \n",
       "3  United Kingdom        15.30  CREAM HANGING HEART T-LIGHT HOLDER  \n",
       "4  United Kingdom        16.50             LUNCH BAG RED RETROSPOT  "
      ]
     },
     "execution_count": 14,
     "metadata": {},
     "output_type": "execute_result"
    }
   ],
   "source": [
    "# Remove rows where \"Description\" is just a question mark (?).\n",
    "\n",
    "data_cleaned = \\\n",
    "retail_history_w_description[~ (retail_history_w_description.Description == '?')]\n",
    "\n",
    "# Preview the first five rows of the data.\n",
    "\n",
    "data_cleaned.head(n = 5)"
   ]
  },
  {
   "cell_type": "markdown",
   "metadata": {},
   "source": [
    "# Identify and remove duplicates"
   ]
  },
  {
   "cell_type": "code",
   "execution_count": 15,
   "metadata": {},
   "outputs": [
    {
     "data": {
      "text/plain": [
       "223"
      ]
     },
     "execution_count": 15,
     "metadata": {},
     "output_type": "execute_result"
    }
   ],
   "source": [
    "# Identify all duplicated data.\n",
    "\n",
    "duplicated_data = \\\n",
    "data_cleaned \\\n",
    "[data_cleaned.duplicated(keep = False)]\n",
    "\n",
    "duplicated_data.shape[0]"
   ]
  },
  {
   "cell_type": "code",
   "execution_count": 16,
   "metadata": {},
   "outputs": [
    {
     "data": {
      "text/html": [
       "<div>\n",
       "<style scoped>\n",
       "    .dataframe tbody tr th:only-of-type {\n",
       "        vertical-align: middle;\n",
       "    }\n",
       "\n",
       "    .dataframe tbody tr th {\n",
       "        vertical-align: top;\n",
       "    }\n",
       "\n",
       "    .dataframe thead th {\n",
       "        text-align: right;\n",
       "    }\n",
       "</style>\n",
       "<table border=\"1\" class=\"dataframe\">\n",
       "  <thead>\n",
       "    <tr style=\"text-align: right;\">\n",
       "      <th></th>\n",
       "      <th>Invoice</th>\n",
       "      <th>StockCode</th>\n",
       "      <th>Quantity</th>\n",
       "      <th>InvoiceDate</th>\n",
       "      <th>Price</th>\n",
       "      <th>CustomerID</th>\n",
       "      <th>Country</th>\n",
       "      <th>TotalAmount</th>\n",
       "      <th>Description</th>\n",
       "    </tr>\n",
       "  </thead>\n",
       "  <tbody>\n",
       "    <tr>\n",
       "      <th>176</th>\n",
       "      <td>536863</td>\n",
       "      <td>20727</td>\n",
       "      <td>1</td>\n",
       "      <td>2010-12-03 11:19:00</td>\n",
       "      <td>1.65</td>\n",
       "      <td>u17967</td>\n",
       "      <td>United Kingdom</td>\n",
       "      <td>1.65</td>\n",
       "      <td>LUNCH BAG  BLACK SKULL.</td>\n",
       "    </tr>\n",
       "    <tr>\n",
       "      <th>178</th>\n",
       "      <td>536863</td>\n",
       "      <td>20727</td>\n",
       "      <td>1</td>\n",
       "      <td>2010-12-03 11:19:00</td>\n",
       "      <td>1.65</td>\n",
       "      <td>u17967</td>\n",
       "      <td>United Kingdom</td>\n",
       "      <td>1.65</td>\n",
       "      <td>LUNCH BAG  BLACK SKULL.</td>\n",
       "    </tr>\n",
       "    <tr>\n",
       "      <th>496</th>\n",
       "      <td>537781</td>\n",
       "      <td>84879</td>\n",
       "      <td>8</td>\n",
       "      <td>2010-12-08 12:46:00</td>\n",
       "      <td>1.69</td>\n",
       "      <td>u17341</td>\n",
       "      <td>United Kingdom</td>\n",
       "      <td>13.52</td>\n",
       "      <td>ASSORTED COLOUR BIRD ORNAMENT</td>\n",
       "    </tr>\n",
       "    <tr>\n",
       "      <th>497</th>\n",
       "      <td>537781</td>\n",
       "      <td>84879</td>\n",
       "      <td>8</td>\n",
       "      <td>2010-12-08 12:46:00</td>\n",
       "      <td>1.69</td>\n",
       "      <td>u17341</td>\n",
       "      <td>United Kingdom</td>\n",
       "      <td>13.52</td>\n",
       "      <td>ASSORTED COLOUR BIRD ORNAMENT</td>\n",
       "    </tr>\n",
       "    <tr>\n",
       "      <th>569</th>\n",
       "      <td>537955</td>\n",
       "      <td>20725</td>\n",
       "      <td>1</td>\n",
       "      <td>2010-12-09 11:28:00</td>\n",
       "      <td>1.65</td>\n",
       "      <td>u16782</td>\n",
       "      <td>United Kingdom</td>\n",
       "      <td>1.65</td>\n",
       "      <td>LUNCH BAG RED RETROSPOT</td>\n",
       "    </tr>\n",
       "  </tbody>\n",
       "</table>\n",
       "</div>"
      ],
      "text/plain": [
       "    Invoice StockCode  Quantity          InvoiceDate  Price CustomerID  \\\n",
       "176  536863     20727         1  2010-12-03 11:19:00   1.65     u17967   \n",
       "178  536863     20727         1  2010-12-03 11:19:00   1.65     u17967   \n",
       "496  537781     84879         8  2010-12-08 12:46:00   1.69     u17341   \n",
       "497  537781     84879         8  2010-12-08 12:46:00   1.69     u17341   \n",
       "569  537955     20725         1  2010-12-09 11:28:00   1.65     u16782   \n",
       "\n",
       "            Country  TotalAmount                    Description  \n",
       "176  United Kingdom         1.65        LUNCH BAG  BLACK SKULL.  \n",
       "178  United Kingdom         1.65        LUNCH BAG  BLACK SKULL.  \n",
       "496  United Kingdom        13.52  ASSORTED COLOUR BIRD ORNAMENT  \n",
       "497  United Kingdom        13.52  ASSORTED COLOUR BIRD ORNAMENT  \n",
       "569  United Kingdom         1.65        LUNCH BAG RED RETROSPOT  "
      ]
     },
     "execution_count": 16,
     "metadata": {},
     "output_type": "execute_result"
    }
   ],
   "source": [
    "# Print the duplicated data.\n",
    "\n",
    "duplicated_data.head(n = 5)"
   ]
  },
  {
   "cell_type": "code",
   "execution_count": 17,
   "metadata": {},
   "outputs": [
    {
     "data": {
      "text/html": [
       "<div>\n",
       "<style scoped>\n",
       "    .dataframe tbody tr th:only-of-type {\n",
       "        vertical-align: middle;\n",
       "    }\n",
       "\n",
       "    .dataframe tbody tr th {\n",
       "        vertical-align: top;\n",
       "    }\n",
       "\n",
       "    .dataframe thead th {\n",
       "        text-align: right;\n",
       "    }\n",
       "</style>\n",
       "<table border=\"1\" class=\"dataframe\">\n",
       "  <thead>\n",
       "    <tr style=\"text-align: right;\">\n",
       "      <th></th>\n",
       "      <th>Invoice</th>\n",
       "      <th>StockCode</th>\n",
       "      <th>Quantity</th>\n",
       "      <th>InvoiceDate</th>\n",
       "      <th>Price</th>\n",
       "      <th>CustomerID</th>\n",
       "      <th>Country</th>\n",
       "      <th>TotalAmount</th>\n",
       "      <th>Description</th>\n",
       "    </tr>\n",
       "  </thead>\n",
       "  <tbody>\n",
       "    <tr>\n",
       "      <th>0</th>\n",
       "      <td>536365</td>\n",
       "      <td>85123A</td>\n",
       "      <td>6</td>\n",
       "      <td>2010-12-01 08:26:00</td>\n",
       "      <td>2.55</td>\n",
       "      <td>u1785</td>\n",
       "      <td>United Kingdom</td>\n",
       "      <td>15.30</td>\n",
       "      <td>CREAM HANGING HEART T-LIGHT HOLDER</td>\n",
       "    </tr>\n",
       "    <tr>\n",
       "      <th>1</th>\n",
       "      <td>536367</td>\n",
       "      <td>84879</td>\n",
       "      <td>32</td>\n",
       "      <td>2010-12-01 08:34:00</td>\n",
       "      <td>1.69</td>\n",
       "      <td>u13047</td>\n",
       "      <td>United Kingdom</td>\n",
       "      <td>54.08</td>\n",
       "      <td>ASSORTED COLOUR BIRD ORNAMENT</td>\n",
       "    </tr>\n",
       "    <tr>\n",
       "      <th>2</th>\n",
       "      <td>536373</td>\n",
       "      <td>85123A</td>\n",
       "      <td>6</td>\n",
       "      <td>2010-12-01 09:02:00</td>\n",
       "      <td>2.55</td>\n",
       "      <td>u1785</td>\n",
       "      <td>United Kingdom</td>\n",
       "      <td>15.30</td>\n",
       "      <td>CREAM HANGING HEART T-LIGHT HOLDER</td>\n",
       "    </tr>\n",
       "    <tr>\n",
       "      <th>3</th>\n",
       "      <td>536375</td>\n",
       "      <td>85123A</td>\n",
       "      <td>6</td>\n",
       "      <td>2010-12-01 09:32:00</td>\n",
       "      <td>2.55</td>\n",
       "      <td>u1785</td>\n",
       "      <td>United Kingdom</td>\n",
       "      <td>15.30</td>\n",
       "      <td>CREAM HANGING HEART T-LIGHT HOLDER</td>\n",
       "    </tr>\n",
       "    <tr>\n",
       "      <th>4</th>\n",
       "      <td>536378</td>\n",
       "      <td>20725</td>\n",
       "      <td>10</td>\n",
       "      <td>2010-12-01 09:37:00</td>\n",
       "      <td>1.65</td>\n",
       "      <td>u14688</td>\n",
       "      <td>United Kingdom</td>\n",
       "      <td>16.50</td>\n",
       "      <td>LUNCH BAG RED RETROSPOT</td>\n",
       "    </tr>\n",
       "  </tbody>\n",
       "</table>\n",
       "</div>"
      ],
      "text/plain": [
       "  Invoice StockCode  Quantity          InvoiceDate  Price CustomerID  \\\n",
       "0  536365    85123A         6  2010-12-01 08:26:00   2.55      u1785   \n",
       "1  536367     84879        32  2010-12-01 08:34:00   1.69     u13047   \n",
       "2  536373    85123A         6  2010-12-01 09:02:00   2.55      u1785   \n",
       "3  536375    85123A         6  2010-12-01 09:32:00   2.55      u1785   \n",
       "4  536378     20725        10  2010-12-01 09:37:00   1.65     u14688   \n",
       "\n",
       "          Country  TotalAmount                         Description  \n",
       "0  United Kingdom        15.30  CREAM HANGING HEART T-LIGHT HOLDER  \n",
       "1  United Kingdom        54.08       ASSORTED COLOUR BIRD ORNAMENT  \n",
       "2  United Kingdom        15.30  CREAM HANGING HEART T-LIGHT HOLDER  \n",
       "3  United Kingdom        15.30  CREAM HANGING HEART T-LIGHT HOLDER  \n",
       "4  United Kingdom        16.50             LUNCH BAG RED RETROSPOT  "
      ]
     },
     "execution_count": 17,
     "metadata": {},
     "output_type": "execute_result"
    }
   ],
   "source": [
    "# Remove the duplicated data.\n",
    "data_cleaned_unduplicated = \\\n",
    "data_cleaned[~data_cleaned.duplicated()]\n",
    "\n",
    "# Preview the first five rows of the data.\n",
    "\n",
    "data_cleaned_unduplicated.head(n = 5)"
   ]
  },
  {
   "cell_type": "markdown",
   "metadata": {},
   "source": [
    "# Correct date formats"
   ]
  },
  {
   "cell_type": "code",
   "execution_count": 18,
   "metadata": {},
   "outputs": [
    {
     "name": "stdout",
     "output_type": "stream",
     "text": [
      "<class 'pandas.core.frame.DataFrame'>\n",
      "Int64Index: 15206 entries, 0 to 17031\n",
      "Data columns (total 9 columns):\n",
      " #   Column       Non-Null Count  Dtype  \n",
      "---  ------       --------------  -----  \n",
      " 0   Invoice      15206 non-null  object \n",
      " 1   StockCode    15206 non-null  object \n",
      " 2   Quantity     15206 non-null  int64  \n",
      " 3   InvoiceDate  15206 non-null  object \n",
      " 4   Price        15194 non-null  float64\n",
      " 5   CustomerID   12435 non-null  object \n",
      " 6   Country      15206 non-null  object \n",
      " 7   TotalAmount  15194 non-null  float64\n",
      " 8   Description  15206 non-null  object \n",
      "dtypes: float64(2), int64(1), object(6)\n",
      "memory usage: 1.2+ MB\n"
     ]
    }
   ],
   "source": [
    "# Get the data types for every column in the DataFrame.\n",
    "\n",
    "data_cleaned_unduplicated.info()"
   ]
  },
  {
   "cell_type": "code",
   "execution_count": 19,
   "metadata": {},
   "outputs": [],
   "source": [
    "# Convert \"InvoiceDate\" to a \"%Y-%m-%d\" datetime format.\n",
    "\n",
    "data_final = data_cleaned_unduplicated.copy()\n",
    "\n",
    "data_final['InvoiceDate'] = \\\n",
    "pd.to_datetime(data_final['InvoiceDate'],\n",
    "              format = '%Y-%m-%d')"
   ]
  },
  {
   "cell_type": "code",
   "execution_count": 20,
   "metadata": {},
   "outputs": [
    {
     "name": "stdout",
     "output_type": "stream",
     "text": [
      "<class 'pandas.core.frame.DataFrame'>\n",
      "Int64Index: 15206 entries, 0 to 17031\n",
      "Data columns (total 9 columns):\n",
      " #   Column       Non-Null Count  Dtype         \n",
      "---  ------       --------------  -----         \n",
      " 0   Invoice      15206 non-null  object        \n",
      " 1   StockCode    15206 non-null  object        \n",
      " 2   Quantity     15206 non-null  int64         \n",
      " 3   InvoiceDate  15206 non-null  datetime64[ns]\n",
      " 4   Price        15194 non-null  float64       \n",
      " 5   CustomerID   12435 non-null  object        \n",
      " 6   Country      15206 non-null  object        \n",
      " 7   TotalAmount  15194 non-null  float64       \n",
      " 8   Description  15206 non-null  object        \n",
      "dtypes: datetime64[ns](1), float64(2), int64(1), object(5)\n",
      "memory usage: 1.2+ MB\n"
     ]
    }
   ],
   "source": [
    "# Get the data types for every column in the converted DataFrame.\n",
    "\n",
    "data_final.info()"
   ]
  },
  {
   "cell_type": "markdown",
   "metadata": {},
   "source": [
    "# Examine the table before finishing"
   ]
  },
  {
   "cell_type": "code",
   "execution_count": 21,
   "metadata": {},
   "outputs": [
    {
     "data": {
      "text/html": [
       "<div>\n",
       "<style scoped>\n",
       "    .dataframe tbody tr th:only-of-type {\n",
       "        vertical-align: middle;\n",
       "    }\n",
       "\n",
       "    .dataframe tbody tr th {\n",
       "        vertical-align: top;\n",
       "    }\n",
       "\n",
       "    .dataframe thead th {\n",
       "        text-align: right;\n",
       "    }\n",
       "</style>\n",
       "<table border=\"1\" class=\"dataframe\">\n",
       "  <thead>\n",
       "    <tr style=\"text-align: right;\">\n",
       "      <th></th>\n",
       "      <th>Invoice</th>\n",
       "      <th>StockCode</th>\n",
       "      <th>Quantity</th>\n",
       "      <th>InvoiceDate</th>\n",
       "      <th>Price</th>\n",
       "      <th>CustomerID</th>\n",
       "      <th>Country</th>\n",
       "      <th>TotalAmount</th>\n",
       "      <th>Description</th>\n",
       "    </tr>\n",
       "  </thead>\n",
       "  <tbody>\n",
       "    <tr>\n",
       "      <th>0</th>\n",
       "      <td>536365</td>\n",
       "      <td>85123A</td>\n",
       "      <td>6</td>\n",
       "      <td>2010-12-01 08:26:00</td>\n",
       "      <td>2.55</td>\n",
       "      <td>u1785</td>\n",
       "      <td>United Kingdom</td>\n",
       "      <td>15.30</td>\n",
       "      <td>CREAM HANGING HEART T-LIGHT HOLDER</td>\n",
       "    </tr>\n",
       "    <tr>\n",
       "      <th>1</th>\n",
       "      <td>536367</td>\n",
       "      <td>84879</td>\n",
       "      <td>32</td>\n",
       "      <td>2010-12-01 08:34:00</td>\n",
       "      <td>1.69</td>\n",
       "      <td>u13047</td>\n",
       "      <td>United Kingdom</td>\n",
       "      <td>54.08</td>\n",
       "      <td>ASSORTED COLOUR BIRD ORNAMENT</td>\n",
       "    </tr>\n",
       "    <tr>\n",
       "      <th>2</th>\n",
       "      <td>536373</td>\n",
       "      <td>85123A</td>\n",
       "      <td>6</td>\n",
       "      <td>2010-12-01 09:02:00</td>\n",
       "      <td>2.55</td>\n",
       "      <td>u1785</td>\n",
       "      <td>United Kingdom</td>\n",
       "      <td>15.30</td>\n",
       "      <td>CREAM HANGING HEART T-LIGHT HOLDER</td>\n",
       "    </tr>\n",
       "    <tr>\n",
       "      <th>3</th>\n",
       "      <td>536375</td>\n",
       "      <td>85123A</td>\n",
       "      <td>6</td>\n",
       "      <td>2010-12-01 09:32:00</td>\n",
       "      <td>2.55</td>\n",
       "      <td>u1785</td>\n",
       "      <td>United Kingdom</td>\n",
       "      <td>15.30</td>\n",
       "      <td>CREAM HANGING HEART T-LIGHT HOLDER</td>\n",
       "    </tr>\n",
       "    <tr>\n",
       "      <th>4</th>\n",
       "      <td>536378</td>\n",
       "      <td>20725</td>\n",
       "      <td>10</td>\n",
       "      <td>2010-12-01 09:37:00</td>\n",
       "      <td>1.65</td>\n",
       "      <td>u14688</td>\n",
       "      <td>United Kingdom</td>\n",
       "      <td>16.50</td>\n",
       "      <td>LUNCH BAG RED RETROSPOT</td>\n",
       "    </tr>\n",
       "  </tbody>\n",
       "</table>\n",
       "</div>"
      ],
      "text/plain": [
       "  Invoice StockCode  Quantity         InvoiceDate  Price CustomerID  \\\n",
       "0  536365    85123A         6 2010-12-01 08:26:00   2.55      u1785   \n",
       "1  536367     84879        32 2010-12-01 08:34:00   1.69     u13047   \n",
       "2  536373    85123A         6 2010-12-01 09:02:00   2.55      u1785   \n",
       "3  536375    85123A         6 2010-12-01 09:32:00   2.55      u1785   \n",
       "4  536378     20725        10 2010-12-01 09:37:00   1.65     u14688   \n",
       "\n",
       "          Country  TotalAmount                         Description  \n",
       "0  United Kingdom        15.30  CREAM HANGING HEART T-LIGHT HOLDER  \n",
       "1  United Kingdom        54.08       ASSORTED COLOUR BIRD ORNAMENT  \n",
       "2  United Kingdom        15.30  CREAM HANGING HEART T-LIGHT HOLDER  \n",
       "3  United Kingdom        15.30  CREAM HANGING HEART T-LIGHT HOLDER  \n",
       "4  United Kingdom        16.50             LUNCH BAG RED RETROSPOT  "
      ]
     },
     "execution_count": 21,
     "metadata": {},
     "output_type": "execute_result"
    }
   ],
   "source": [
    "# Preview the first five rows of the data.\n",
    "\n",
    "data_final.head(n = 5)"
   ]
  },
  {
   "cell_type": "markdown",
   "metadata": {},
   "source": [
    "# Load the dataset into a pickle file"
   ]
  },
  {
   "cell_type": "code",
   "execution_count": 22,
   "metadata": {},
   "outputs": [],
   "source": [
    "# Save the dataset as a pickle file named online_history_cleaned.pickle.\n",
    "\n",
    "data_final.to_pickle('data/users_data_cleaned.pickle')"
   ]
  },
  {
   "cell_type": "code",
   "execution_count": 23,
   "metadata": {},
   "outputs": [],
   "source": [
    "# Close any connections to the database.\n",
    "\n",
    "conn.close()"
   ]
  }
 ],
 "metadata": {
  "kernelspec": {
   "display_name": "Python 3.9.12 ('base')",
   "language": "python",
   "name": "python3"
  },
  "language_info": {
   "codemirror_mode": {
    "name": "ipython",
    "version": 3
   },
   "file_extension": ".py",
   "mimetype": "text/x-python",
   "name": "python",
   "nbconvert_exporter": "python",
   "pygments_lexer": "ipython3",
   "version": "3.9.12"
  },
  "vscode": {
   "interpreter": {
    "hash": "effe0537abfed60f911a6d119edf3dd23784c9dcf6ad90564d0c8420279a3d36"
   }
  }
 },
 "nbformat": 4,
 "nbformat_minor": 4
}
